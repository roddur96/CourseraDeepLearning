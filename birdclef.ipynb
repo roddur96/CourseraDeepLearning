{
 "cells": [
  {
   "cell_type": "code",
   "execution_count": 1,
   "id": "388f69be",
   "metadata": {
    "_cell_guid": "b1076dfc-b9ad-4769-8c92-a6c4dae69d19",
    "_uuid": "8f2839f25d086af736a60e9eeb907d3b93b6e0e5",
    "execution": {
     "iopub.execute_input": "2022-03-04T18:56:08.871690Z",
     "iopub.status.busy": "2022-03-04T18:56:08.871068Z",
     "iopub.status.idle": "2022-03-04T18:56:10.261197Z",
     "shell.execute_reply": "2022-03-04T18:56:10.260111Z",
     "shell.execute_reply.started": "2022-03-04T18:51:02.249684Z"
    },
    "papermill": {
     "duration": 1.417375,
     "end_time": "2022-03-04T18:56:10.261376",
     "exception": false,
     "start_time": "2022-03-04T18:56:08.844001",
     "status": "completed"
    },
    "tags": []
   },
   "outputs": [],
   "source": [
    "# This Python 3 environment comes with many helpful analytics libraries installed\n",
    "# It is defined by the kaggle/python Docker image: https://github.com/kaggle/docker-python\n",
    "# For example, here's several helpful packages to load\n",
    "\n",
    "import numpy as np # linear algebra\n",
    "import pandas as pd # data processing, CSV file I/O (e.g. pd.read_csv)\n",
    "\n",
    "# Input data files are available in the read-only \"../input/\" directory\n",
    "# For example, running this (by clicking run or pre\n",
    "\n",
    "#ssing Shift+Enter) will list all files under the input directory\n",
    "\n",
    "import os\n",
    "for dirname, _, filenames in os.walk('/kaggle/input'):\n",
    "    for filename in filenames:\n",
    "        #print(os.path.join(dirname, filename))\n",
    "        pass\n",
    "\n",
    "# You can write up to 20GB to the current directory (/kaggle/working/) that gets preserved as output when you create a version using \"Save & Run All\" \n",
    "# You can also write temporary files to /kaggle/temp/, but they won't be saved outside of the current session"
   ]
  },
  {
   "cell_type": "code",
   "execution_count": 2,
   "id": "4266fa1c",
   "metadata": {
    "execution": {
     "iopub.execute_input": "2022-03-04T18:56:10.297293Z",
     "iopub.status.busy": "2022-03-04T18:56:10.296567Z",
     "iopub.status.idle": "2022-03-04T18:56:10.303687Z",
     "shell.execute_reply": "2022-03-04T18:56:10.304216Z",
     "shell.execute_reply.started": "2022-03-04T18:51:05.470043Z"
    },
    "papermill": {
     "duration": 0.026945,
     "end_time": "2022-03-04T18:56:10.304380",
     "exception": false,
     "start_time": "2022-03-04T18:56:10.277435",
     "status": "completed"
    },
    "tags": []
   },
   "outputs": [
    {
     "data": {
      "text/plain": [
       "['sample_submission.csv',\n",
       " 'train_audio',\n",
       " 'scored_birds.json',\n",
       " 'eBird_Taxonomy_v2021.csv',\n",
       " 'test.csv',\n",
       " 'train_metadata.csv',\n",
       " 'test_soundscapes']"
      ]
     },
     "execution_count": 2,
     "metadata": {},
     "output_type": "execute_result"
    }
   ],
   "source": [
    "import os\n",
    "os.getcwd()\n",
    "os.listdir('/kaggle/input/birdclef-2022')"
   ]
  },
  {
   "cell_type": "raw",
   "id": "f9916076",
   "metadata": {
    "papermill": {
     "duration": 0.015651,
     "end_time": "2022-03-04T18:56:10.336326",
     "exception": false,
     "start_time": "2022-03-04T18:56:10.320675",
     "status": "completed"
    },
    "tags": []
   },
   "source": [
    "train = pd.read_csv('/kaggle/input/birdclef-2022/train_metadata.csv')\n",
    "test = pd.read_csv('/kaggle/input/birdclef-2022/test.csv')\n",
    "subm = pd.read_csv('/kaggle/input/birdclef-2022/sample_submission.csv')"
   ]
  },
  {
   "cell_type": "code",
   "execution_count": 3,
   "id": "a4660bab",
   "metadata": {
    "execution": {
     "iopub.execute_input": "2022-03-04T18:56:10.371908Z",
     "iopub.status.busy": "2022-03-04T18:56:10.370825Z",
     "iopub.status.idle": "2022-03-04T18:56:10.495204Z",
     "shell.execute_reply": "2022-03-04T18:56:10.495751Z",
     "shell.execute_reply.started": "2022-03-04T18:51:05.480137Z"
    },
    "papermill": {
     "duration": 0.143732,
     "end_time": "2022-03-04T18:56:10.495967",
     "exception": false,
     "start_time": "2022-03-04T18:56:10.352235",
     "status": "completed"
    },
    "tags": []
   },
   "outputs": [],
   "source": [
    "train = pd.read_csv('/kaggle/input/birdclef-2022/train_metadata.csv')\n",
    "test = pd.read_csv('/kaggle/input/birdclef-2022/test.csv')\n",
    "subm = pd.read_csv('/kaggle/input/birdclef-2022/sample_submission.csv')"
   ]
  },
  {
   "cell_type": "code",
   "execution_count": 4,
   "id": "aa854047",
   "metadata": {
    "execution": {
     "iopub.execute_input": "2022-03-04T18:56:10.531940Z",
     "iopub.status.busy": "2022-03-04T18:56:10.530941Z",
     "iopub.status.idle": "2022-03-04T18:56:10.538654Z",
     "shell.execute_reply": "2022-03-04T18:56:10.539490Z",
     "shell.execute_reply.started": "2022-03-04T18:51:06.149655Z"
    },
    "papermill": {
     "duration": 0.027632,
     "end_time": "2022-03-04T18:56:10.539720",
     "exception": false,
     "start_time": "2022-03-04T18:56:10.512088",
     "status": "completed"
    },
    "tags": []
   },
   "outputs": [
    {
     "name": "stdout",
     "output_type": "stream",
     "text": [
      "Number of test soundscapes: 1\n"
     ]
    }
   ],
   "source": [
    "test_audio_dir = '../input/birdclef-2022/test_soundscapes/'\n",
    "file_list = [f.split('.')[0] for f in sorted(os.listdir(test_audio_dir))]\n",
    "\n",
    "# At the moment, there should only be a single soundscape visible.\n",
    "# During the submission re-run, all other hidden soundscapes\n",
    "# will be visible too and can be processed by your notebook.\n",
    "print('Number of test soundscapes:', len(file_list))\n"
   ]
  },
  {
   "cell_type": "code",
   "execution_count": null,
   "id": "3936aa0e",
   "metadata": {
    "execution": {
     "iopub.execute_input": "2022-03-04T18:51:07.885566Z",
     "iopub.status.busy": "2022-03-04T18:51:07.885260Z",
     "iopub.status.idle": "2022-03-04T18:51:07.892125Z",
     "shell.execute_reply": "2022-03-04T18:51:07.890555Z",
     "shell.execute_reply.started": "2022-03-04T18:51:07.885534Z"
    },
    "papermill": {
     "duration": 0.016041,
     "end_time": "2022-03-04T18:56:10.573634",
     "exception": false,
     "start_time": "2022-03-04T18:56:10.557593",
     "status": "completed"
    },
    "tags": []
   },
   "outputs": [],
   "source": []
  },
  {
   "cell_type": "code",
   "execution_count": 5,
   "id": "b2ccb7ca",
   "metadata": {
    "execution": {
     "iopub.execute_input": "2022-03-04T18:56:10.610927Z",
     "iopub.status.busy": "2022-03-04T18:56:10.609956Z",
     "iopub.status.idle": "2022-03-04T18:56:10.618121Z",
     "shell.execute_reply": "2022-03-04T18:56:10.618654Z",
     "shell.execute_reply.started": "2022-03-04T18:51:53.431367Z"
    },
    "papermill": {
     "duration": 0.028133,
     "end_time": "2022-03-04T18:56:10.618833",
     "exception": false,
     "start_time": "2022-03-04T18:56:10.590700",
     "status": "completed"
    },
    "tags": []
   },
   "outputs": [],
   "source": [
    "import json\n",
    "f = open('/kaggle/input/birdclef-2022/scored_birds.json')\n",
    "scored_birds = json.load(f)"
   ]
  },
  {
   "cell_type": "code",
   "execution_count": 6,
   "id": "494d6fc2",
   "metadata": {
    "execution": {
     "iopub.execute_input": "2022-03-04T18:56:10.656372Z",
     "iopub.status.busy": "2022-03-04T18:56:10.655365Z",
     "iopub.status.idle": "2022-03-04T18:56:10.666365Z",
     "shell.execute_reply": "2022-03-04T18:56:10.666913Z",
     "shell.execute_reply.started": "2022-03-04T18:54:40.798597Z"
    },
    "papermill": {
     "duration": 0.031236,
     "end_time": "2022-03-04T18:56:10.667098",
     "exception": false,
     "start_time": "2022-03-04T18:56:10.635862",
     "status": "completed"
    },
    "tags": []
   },
   "outputs": [],
   "source": [
    "# This is where we will store our results\n",
    "pred = {'row_id': [], 'target': []}\n",
    "\n",
    "# Process audio files and make predictions\n",
    "for afile in file_list:\n",
    "    \n",
    "    # Complete file path\n",
    "    path = test_audio_dir + afile + '.ogg'\n",
    "    \n",
    "    # Open file with librosa and split signal into 5-second chunks\n",
    "    chunks = [[] for i in range(12)]\n",
    "    for i in range(len(chunks)):        \n",
    "        chunk_end_time = (i + 1) * 5\n",
    "        for bird in scored_birds:\n",
    "            score = np.random.uniform()\n",
    "            row_id = afile + '_' + bird + '_' + str(chunk_end_time)\n",
    "            pred['row_id'].append(row_id)\n",
    "            pred['target'].append(True if score > 0.5 else False)\n",
    "results = pd.DataFrame(pred, columns = ['row_id', 'target'])"
   ]
  },
  {
   "cell_type": "code",
   "execution_count": 7,
   "id": "f3bae9d5",
   "metadata": {
    "execution": {
     "iopub.execute_input": "2022-03-04T18:56:10.705451Z",
     "iopub.status.busy": "2022-03-04T18:56:10.704462Z",
     "iopub.status.idle": "2022-03-04T18:56:10.723436Z",
     "shell.execute_reply": "2022-03-04T18:56:10.723976Z",
     "shell.execute_reply.started": "2022-03-04T18:54:45.274573Z"
    },
    "papermill": {
     "duration": 0.038847,
     "end_time": "2022-03-04T18:56:10.724156",
     "exception": false,
     "start_time": "2022-03-04T18:56:10.685309",
     "status": "completed"
    },
    "tags": []
   },
   "outputs": [
    {
     "data": {
      "text/html": [
       "<div>\n",
       "<style scoped>\n",
       "    .dataframe tbody tr th:only-of-type {\n",
       "        vertical-align: middle;\n",
       "    }\n",
       "\n",
       "    .dataframe tbody tr th {\n",
       "        vertical-align: top;\n",
       "    }\n",
       "\n",
       "    .dataframe thead th {\n",
       "        text-align: right;\n",
       "    }\n",
       "</style>\n",
       "<table border=\"1\" class=\"dataframe\">\n",
       "  <thead>\n",
       "    <tr style=\"text-align: right;\">\n",
       "      <th></th>\n",
       "      <th>row_id</th>\n",
       "      <th>target</th>\n",
       "    </tr>\n",
       "  </thead>\n",
       "  <tbody>\n",
       "    <tr>\n",
       "      <th>0</th>\n",
       "      <td>soundscape_453028782_akiapo_5</td>\n",
       "      <td>False</td>\n",
       "    </tr>\n",
       "    <tr>\n",
       "      <th>1</th>\n",
       "      <td>soundscape_453028782_aniani_5</td>\n",
       "      <td>False</td>\n",
       "    </tr>\n",
       "    <tr>\n",
       "      <th>2</th>\n",
       "      <td>soundscape_453028782_apapan_5</td>\n",
       "      <td>True</td>\n",
       "    </tr>\n",
       "    <tr>\n",
       "      <th>3</th>\n",
       "      <td>soundscape_453028782_barpet_5</td>\n",
       "      <td>False</td>\n",
       "    </tr>\n",
       "    <tr>\n",
       "      <th>4</th>\n",
       "      <td>soundscape_453028782_crehon_5</td>\n",
       "      <td>True</td>\n",
       "    </tr>\n",
       "    <tr>\n",
       "      <th>...</th>\n",
       "      <td>...</td>\n",
       "      <td>...</td>\n",
       "    </tr>\n",
       "    <tr>\n",
       "      <th>247</th>\n",
       "      <td>soundscape_453028782_omao_60</td>\n",
       "      <td>False</td>\n",
       "    </tr>\n",
       "    <tr>\n",
       "      <th>248</th>\n",
       "      <td>soundscape_453028782_puaioh_60</td>\n",
       "      <td>False</td>\n",
       "    </tr>\n",
       "    <tr>\n",
       "      <th>249</th>\n",
       "      <td>soundscape_453028782_skylar_60</td>\n",
       "      <td>False</td>\n",
       "    </tr>\n",
       "    <tr>\n",
       "      <th>250</th>\n",
       "      <td>soundscape_453028782_warwhe1_60</td>\n",
       "      <td>False</td>\n",
       "    </tr>\n",
       "    <tr>\n",
       "      <th>251</th>\n",
       "      <td>soundscape_453028782_yefcan_60</td>\n",
       "      <td>False</td>\n",
       "    </tr>\n",
       "  </tbody>\n",
       "</table>\n",
       "<p>252 rows × 2 columns</p>\n",
       "</div>"
      ],
      "text/plain": [
       "                              row_id  target\n",
       "0      soundscape_453028782_akiapo_5   False\n",
       "1      soundscape_453028782_aniani_5   False\n",
       "2      soundscape_453028782_apapan_5    True\n",
       "3      soundscape_453028782_barpet_5   False\n",
       "4      soundscape_453028782_crehon_5    True\n",
       "..                               ...     ...\n",
       "247     soundscape_453028782_omao_60   False\n",
       "248   soundscape_453028782_puaioh_60   False\n",
       "249   soundscape_453028782_skylar_60   False\n",
       "250  soundscape_453028782_warwhe1_60   False\n",
       "251   soundscape_453028782_yefcan_60   False\n",
       "\n",
       "[252 rows x 2 columns]"
      ]
     },
     "execution_count": 7,
     "metadata": {},
     "output_type": "execute_result"
    }
   ],
   "source": [
    "results"
   ]
  },
  {
   "cell_type": "code",
   "execution_count": 8,
   "id": "8d8d70db",
   "metadata": {
    "execution": {
     "iopub.execute_input": "2022-03-04T18:56:10.762506Z",
     "iopub.status.busy": "2022-03-04T18:56:10.761440Z",
     "iopub.status.idle": "2022-03-04T18:56:10.769296Z",
     "shell.execute_reply": "2022-03-04T18:56:10.769879Z",
     "shell.execute_reply.started": "2022-03-04T18:55:03.078025Z"
    },
    "papermill": {
     "duration": 0.028755,
     "end_time": "2022-03-04T18:56:10.770101",
     "exception": false,
     "start_time": "2022-03-04T18:56:10.741346",
     "status": "completed"
    },
    "tags": []
   },
   "outputs": [],
   "source": [
    "results.to_csv(\"submission.csv\", index=False) "
   ]
  },
  {
   "cell_type": "code",
   "execution_count": 9,
   "id": "45bff2e7",
   "metadata": {
    "execution": {
     "iopub.execute_input": "2022-03-04T18:56:10.809827Z",
     "iopub.status.busy": "2022-03-04T18:56:10.809156Z",
     "iopub.status.idle": "2022-03-04T18:56:10.867617Z",
     "shell.execute_reply": "2022-03-04T18:56:10.866862Z",
     "shell.execute_reply.started": "2022-03-04T09:00:51.175726Z"
    },
    "papermill": {
     "duration": 0.080392,
     "end_time": "2022-03-04T18:56:10.867761",
     "exception": false,
     "start_time": "2022-03-04T18:56:10.787369",
     "status": "completed"
    },
    "tags": []
   },
   "outputs": [],
   "source": [
    "import soundfile\n",
    "def transform_sound(x):\n",
    "    x =soundfile.read('/kaggle/input/birdclef-2022/train_audio/'+x)[0]\n",
    "    return x\n",
    "\n"
   ]
  },
  {
   "cell_type": "code",
   "execution_count": 10,
   "id": "6d7add5b",
   "metadata": {
    "execution": {
     "iopub.execute_input": "2022-03-04T18:56:10.910714Z",
     "iopub.status.busy": "2022-03-04T18:56:10.910003Z",
     "iopub.status.idle": "2022-03-04T18:56:10.919469Z",
     "shell.execute_reply": "2022-03-04T18:56:10.920054Z",
     "shell.execute_reply.started": "2022-03-04T08:59:35.637476Z"
    },
    "papermill": {
     "duration": 0.035315,
     "end_time": "2022-03-04T18:56:10.920237",
     "exception": false,
     "start_time": "2022-03-04T18:56:10.884922",
     "status": "completed"
    },
    "tags": []
   },
   "outputs": [],
   "source": [
    "col='primary_label'\n",
    "Y =train[col]\n",
    "X = train.loc[:, train.columns != col]"
   ]
  },
  {
   "cell_type": "code",
   "execution_count": 11,
   "id": "7eb96981",
   "metadata": {
    "execution": {
     "iopub.execute_input": "2022-03-04T18:56:10.960079Z",
     "iopub.status.busy": "2022-03-04T18:56:10.959382Z",
     "iopub.status.idle": "2022-03-04T18:56:12.163958Z",
     "shell.execute_reply": "2022-03-04T18:56:12.163363Z",
     "shell.execute_reply.started": "2022-03-04T09:00:53.097029Z"
    },
    "papermill": {
     "duration": 1.226568,
     "end_time": "2022-03-04T18:56:12.164113",
     "exception": false,
     "start_time": "2022-03-04T18:56:10.937545",
     "status": "completed"
    },
    "tags": []
   },
   "outputs": [],
   "source": [
    "from sklearn.model_selection import train_test_split\n",
    "X_train, X_test, y_train, y_test = train_test_split(\n",
    "     X, Y, test_size=0.33, random_state=42)"
   ]
  },
  {
   "cell_type": "code",
   "execution_count": 12,
   "id": "d3b443a4",
   "metadata": {
    "execution": {
     "iopub.execute_input": "2022-03-04T18:56:12.226246Z",
     "iopub.status.busy": "2022-03-04T18:56:12.225560Z",
     "iopub.status.idle": "2022-03-04T18:56:12.230062Z",
     "shell.execute_reply": "2022-03-04T18:56:12.230555Z"
    },
    "papermill": {
     "duration": 0.049733,
     "end_time": "2022-03-04T18:56:12.230733",
     "exception": false,
     "start_time": "2022-03-04T18:56:12.181000",
     "status": "completed"
    },
    "tags": []
   },
   "outputs": [
    {
     "data": {
      "text/html": [
       "<div>\n",
       "<style scoped>\n",
       "    .dataframe tbody tr th:only-of-type {\n",
       "        vertical-align: middle;\n",
       "    }\n",
       "\n",
       "    .dataframe tbody tr th {\n",
       "        vertical-align: top;\n",
       "    }\n",
       "\n",
       "    .dataframe thead th {\n",
       "        text-align: right;\n",
       "    }\n",
       "</style>\n",
       "<table border=\"1\" class=\"dataframe\">\n",
       "  <thead>\n",
       "    <tr style=\"text-align: right;\">\n",
       "      <th></th>\n",
       "      <th>primary_label</th>\n",
       "      <th>secondary_labels</th>\n",
       "      <th>type</th>\n",
       "      <th>latitude</th>\n",
       "      <th>longitude</th>\n",
       "      <th>scientific_name</th>\n",
       "      <th>common_name</th>\n",
       "      <th>author</th>\n",
       "      <th>license</th>\n",
       "      <th>rating</th>\n",
       "      <th>time</th>\n",
       "      <th>url</th>\n",
       "      <th>filename</th>\n",
       "    </tr>\n",
       "  </thead>\n",
       "  <tbody>\n",
       "    <tr>\n",
       "      <th>0</th>\n",
       "      <td>afrsil1</td>\n",
       "      <td>[]</td>\n",
       "      <td>['call', 'flight call']</td>\n",
       "      <td>12.3910</td>\n",
       "      <td>-1.4930</td>\n",
       "      <td>Euodice cantans</td>\n",
       "      <td>African Silverbill</td>\n",
       "      <td>Bram Piot</td>\n",
       "      <td>Creative Commons Attribution-NonCommercial-Sha...</td>\n",
       "      <td>2.5</td>\n",
       "      <td>08:00</td>\n",
       "      <td>https://www.xeno-canto.org/125458</td>\n",
       "      <td>afrsil1/XC125458.ogg</td>\n",
       "    </tr>\n",
       "    <tr>\n",
       "      <th>1</th>\n",
       "      <td>afrsil1</td>\n",
       "      <td>['houspa', 'redava', 'zebdov']</td>\n",
       "      <td>['call']</td>\n",
       "      <td>19.8801</td>\n",
       "      <td>-155.7254</td>\n",
       "      <td>Euodice cantans</td>\n",
       "      <td>African Silverbill</td>\n",
       "      <td>Dan Lane</td>\n",
       "      <td>Creative Commons Attribution-NonCommercial-Sha...</td>\n",
       "      <td>3.5</td>\n",
       "      <td>08:30</td>\n",
       "      <td>https://www.xeno-canto.org/175522</td>\n",
       "      <td>afrsil1/XC175522.ogg</td>\n",
       "    </tr>\n",
       "    <tr>\n",
       "      <th>2</th>\n",
       "      <td>afrsil1</td>\n",
       "      <td>[]</td>\n",
       "      <td>['call', 'song']</td>\n",
       "      <td>16.2901</td>\n",
       "      <td>-16.0321</td>\n",
       "      <td>Euodice cantans</td>\n",
       "      <td>African Silverbill</td>\n",
       "      <td>Bram Piot</td>\n",
       "      <td>Creative Commons Attribution-NonCommercial-Sha...</td>\n",
       "      <td>4.0</td>\n",
       "      <td>11:30</td>\n",
       "      <td>https://www.xeno-canto.org/177993</td>\n",
       "      <td>afrsil1/XC177993.ogg</td>\n",
       "    </tr>\n",
       "    <tr>\n",
       "      <th>3</th>\n",
       "      <td>afrsil1</td>\n",
       "      <td>[]</td>\n",
       "      <td>['alarm call', 'call']</td>\n",
       "      <td>17.0922</td>\n",
       "      <td>54.2958</td>\n",
       "      <td>Euodice cantans</td>\n",
       "      <td>African Silverbill</td>\n",
       "      <td>Oscar Campbell</td>\n",
       "      <td>Creative Commons Attribution-NonCommercial-Sha...</td>\n",
       "      <td>4.0</td>\n",
       "      <td>11:00</td>\n",
       "      <td>https://www.xeno-canto.org/205893</td>\n",
       "      <td>afrsil1/XC205893.ogg</td>\n",
       "    </tr>\n",
       "    <tr>\n",
       "      <th>4</th>\n",
       "      <td>afrsil1</td>\n",
       "      <td>[]</td>\n",
       "      <td>['flight call']</td>\n",
       "      <td>21.4581</td>\n",
       "      <td>-157.7252</td>\n",
       "      <td>Euodice cantans</td>\n",
       "      <td>African Silverbill</td>\n",
       "      <td>Ross Gallardy</td>\n",
       "      <td>Creative Commons Attribution-NonCommercial-Sha...</td>\n",
       "      <td>3.0</td>\n",
       "      <td>16:30</td>\n",
       "      <td>https://www.xeno-canto.org/207431</td>\n",
       "      <td>afrsil1/XC207431.ogg</td>\n",
       "    </tr>\n",
       "    <tr>\n",
       "      <th>...</th>\n",
       "      <td>...</td>\n",
       "      <td>...</td>\n",
       "      <td>...</td>\n",
       "      <td>...</td>\n",
       "      <td>...</td>\n",
       "      <td>...</td>\n",
       "      <td>...</td>\n",
       "      <td>...</td>\n",
       "      <td>...</td>\n",
       "      <td>...</td>\n",
       "      <td>...</td>\n",
       "      <td>...</td>\n",
       "      <td>...</td>\n",
       "    </tr>\n",
       "    <tr>\n",
       "      <th>14847</th>\n",
       "      <td>zebdov</td>\n",
       "      <td>[]</td>\n",
       "      <td>['adult', 'song']</td>\n",
       "      <td>22.6499</td>\n",
       "      <td>120.2872</td>\n",
       "      <td>Geopelia striata</td>\n",
       "      <td>Zebra Dove</td>\n",
       "      <td>Jerome Chie-Jen Ko</td>\n",
       "      <td>Creative Commons Attribution-NonCommercial-Sha...</td>\n",
       "      <td>2.5</td>\n",
       "      <td>08:36</td>\n",
       "      <td>https://www.xeno-canto.org/629769</td>\n",
       "      <td>zebdov/XC629769.ogg</td>\n",
       "    </tr>\n",
       "    <tr>\n",
       "      <th>14848</th>\n",
       "      <td>zebdov</td>\n",
       "      <td>[]</td>\n",
       "      <td>['adult', 'sex uncertain', 'song']</td>\n",
       "      <td>1.4168</td>\n",
       "      <td>103.7287</td>\n",
       "      <td>Geopelia striata</td>\n",
       "      <td>Zebra Dove</td>\n",
       "      <td>Kim Chuah Lim</td>\n",
       "      <td>Creative Commons Attribution-NonCommercial-Sha...</td>\n",
       "      <td>4.0</td>\n",
       "      <td>08:00</td>\n",
       "      <td>https://www.xeno-canto.org/642415</td>\n",
       "      <td>zebdov/XC642415.ogg</td>\n",
       "    </tr>\n",
       "    <tr>\n",
       "      <th>14849</th>\n",
       "      <td>zebdov</td>\n",
       "      <td>[]</td>\n",
       "      <td>['adult', 'call', 'sex uncertain']</td>\n",
       "      <td>1.4347</td>\n",
       "      <td>103.7043</td>\n",
       "      <td>Geopelia striata</td>\n",
       "      <td>Zebra Dove</td>\n",
       "      <td>Kim Chuah Lim</td>\n",
       "      <td>Creative Commons Attribution-NonCommercial-Sha...</td>\n",
       "      <td>4.0</td>\n",
       "      <td>09:00</td>\n",
       "      <td>https://www.xeno-canto.org/665873</td>\n",
       "      <td>zebdov/XC665873.ogg</td>\n",
       "    </tr>\n",
       "    <tr>\n",
       "      <th>14850</th>\n",
       "      <td>zebdov</td>\n",
       "      <td>[]</td>\n",
       "      <td>['song']</td>\n",
       "      <td>3.3508</td>\n",
       "      <td>101.2451</td>\n",
       "      <td>Geopelia striata</td>\n",
       "      <td>Zebra Dove</td>\n",
       "      <td>Jelle Scharringa</td>\n",
       "      <td>Creative Commons Attribution-NonCommercial-Sha...</td>\n",
       "      <td>2.5</td>\n",
       "      <td>11:15</td>\n",
       "      <td>https://www.xeno-canto.org/666194</td>\n",
       "      <td>zebdov/XC666194.ogg</td>\n",
       "    </tr>\n",
       "    <tr>\n",
       "      <th>14851</th>\n",
       "      <td>zebdov</td>\n",
       "      <td>[]</td>\n",
       "      <td>['song']</td>\n",
       "      <td>3.3508</td>\n",
       "      <td>101.2451</td>\n",
       "      <td>Geopelia striata</td>\n",
       "      <td>Zebra Dove</td>\n",
       "      <td>Jelle Scharringa</td>\n",
       "      <td>Creative Commons Attribution-NonCommercial-Sha...</td>\n",
       "      <td>2.5</td>\n",
       "      <td>10:00</td>\n",
       "      <td>https://www.xeno-canto.org/666195</td>\n",
       "      <td>zebdov/XC666195.ogg</td>\n",
       "    </tr>\n",
       "  </tbody>\n",
       "</table>\n",
       "<p>14852 rows × 13 columns</p>\n",
       "</div>"
      ],
      "text/plain": [
       "      primary_label                secondary_labels  \\\n",
       "0           afrsil1                              []   \n",
       "1           afrsil1  ['houspa', 'redava', 'zebdov']   \n",
       "2           afrsil1                              []   \n",
       "3           afrsil1                              []   \n",
       "4           afrsil1                              []   \n",
       "...             ...                             ...   \n",
       "14847        zebdov                              []   \n",
       "14848        zebdov                              []   \n",
       "14849        zebdov                              []   \n",
       "14850        zebdov                              []   \n",
       "14851        zebdov                              []   \n",
       "\n",
       "                                     type  latitude  longitude  \\\n",
       "0                 ['call', 'flight call']   12.3910    -1.4930   \n",
       "1                                ['call']   19.8801  -155.7254   \n",
       "2                        ['call', 'song']   16.2901   -16.0321   \n",
       "3                  ['alarm call', 'call']   17.0922    54.2958   \n",
       "4                         ['flight call']   21.4581  -157.7252   \n",
       "...                                   ...       ...        ...   \n",
       "14847                   ['adult', 'song']   22.6499   120.2872   \n",
       "14848  ['adult', 'sex uncertain', 'song']    1.4168   103.7287   \n",
       "14849  ['adult', 'call', 'sex uncertain']    1.4347   103.7043   \n",
       "14850                            ['song']    3.3508   101.2451   \n",
       "14851                            ['song']    3.3508   101.2451   \n",
       "\n",
       "        scientific_name         common_name              author  \\\n",
       "0       Euodice cantans  African Silverbill           Bram Piot   \n",
       "1       Euodice cantans  African Silverbill            Dan Lane   \n",
       "2       Euodice cantans  African Silverbill           Bram Piot   \n",
       "3       Euodice cantans  African Silverbill      Oscar Campbell   \n",
       "4       Euodice cantans  African Silverbill       Ross Gallardy   \n",
       "...                 ...                 ...                 ...   \n",
       "14847  Geopelia striata          Zebra Dove  Jerome Chie-Jen Ko   \n",
       "14848  Geopelia striata          Zebra Dove       Kim Chuah Lim   \n",
       "14849  Geopelia striata          Zebra Dove       Kim Chuah Lim   \n",
       "14850  Geopelia striata          Zebra Dove    Jelle Scharringa   \n",
       "14851  Geopelia striata          Zebra Dove    Jelle Scharringa   \n",
       "\n",
       "                                                 license  rating   time  \\\n",
       "0      Creative Commons Attribution-NonCommercial-Sha...     2.5  08:00   \n",
       "1      Creative Commons Attribution-NonCommercial-Sha...     3.5  08:30   \n",
       "2      Creative Commons Attribution-NonCommercial-Sha...     4.0  11:30   \n",
       "3      Creative Commons Attribution-NonCommercial-Sha...     4.0  11:00   \n",
       "4      Creative Commons Attribution-NonCommercial-Sha...     3.0  16:30   \n",
       "...                                                  ...     ...    ...   \n",
       "14847  Creative Commons Attribution-NonCommercial-Sha...     2.5  08:36   \n",
       "14848  Creative Commons Attribution-NonCommercial-Sha...     4.0  08:00   \n",
       "14849  Creative Commons Attribution-NonCommercial-Sha...     4.0  09:00   \n",
       "14850  Creative Commons Attribution-NonCommercial-Sha...     2.5  11:15   \n",
       "14851  Creative Commons Attribution-NonCommercial-Sha...     2.5  10:00   \n",
       "\n",
       "                                     url              filename  \n",
       "0      https://www.xeno-canto.org/125458  afrsil1/XC125458.ogg  \n",
       "1      https://www.xeno-canto.org/175522  afrsil1/XC175522.ogg  \n",
       "2      https://www.xeno-canto.org/177993  afrsil1/XC177993.ogg  \n",
       "3      https://www.xeno-canto.org/205893  afrsil1/XC205893.ogg  \n",
       "4      https://www.xeno-canto.org/207431  afrsil1/XC207431.ogg  \n",
       "...                                  ...                   ...  \n",
       "14847  https://www.xeno-canto.org/629769   zebdov/XC629769.ogg  \n",
       "14848  https://www.xeno-canto.org/642415   zebdov/XC642415.ogg  \n",
       "14849  https://www.xeno-canto.org/665873   zebdov/XC665873.ogg  \n",
       "14850  https://www.xeno-canto.org/666194   zebdov/XC666194.ogg  \n",
       "14851  https://www.xeno-canto.org/666195   zebdov/XC666195.ogg  \n",
       "\n",
       "[14852 rows x 13 columns]"
      ]
     },
     "execution_count": 12,
     "metadata": {},
     "output_type": "execute_result"
    }
   ],
   "source": [
    "#y1 =train.sample(10)#.apply(transform_sound)\n",
    "#X_train['audio'] =X_train['filename'].apply(transform_sound)\n",
    "train"
   ]
  },
  {
   "cell_type": "code",
   "execution_count": null,
   "id": "6c65d961",
   "metadata": {
    "papermill": {
     "duration": 0.017382,
     "end_time": "2022-03-04T18:56:12.267748",
     "exception": false,
     "start_time": "2022-03-04T18:56:12.250366",
     "status": "completed"
    },
    "tags": []
   },
   "outputs": [],
   "source": []
  }
 ],
 "metadata": {
  "kernelspec": {
   "display_name": "Python 3",
   "language": "python",
   "name": "python3"
  },
  "language_info": {
   "codemirror_mode": {
    "name": "ipython",
    "version": 3
   },
   "file_extension": ".py",
   "mimetype": "text/x-python",
   "name": "python",
   "nbconvert_exporter": "python",
   "pygments_lexer": "ipython3",
   "version": "3.7.12"
  },
  "papermill": {
   "default_parameters": {},
   "duration": 14.291893,
   "end_time": "2022-03-04T18:56:12.995935",
   "environment_variables": {},
   "exception": null,
   "input_path": "__notebook__.ipynb",
   "output_path": "__notebook__.ipynb",
   "parameters": {},
   "start_time": "2022-03-04T18:55:58.704042",
   "version": "2.3.3"
  }
 },
 "nbformat": 4,
 "nbformat_minor": 5
}
